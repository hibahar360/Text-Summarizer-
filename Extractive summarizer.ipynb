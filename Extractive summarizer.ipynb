{
 "cells": [
  {
   "cell_type": "code",
   "execution_count": 1,
   "id": "962466e9",
   "metadata": {},
   "outputs": [
    {
     "name": "stdout",
     "output_type": "stream",
     "text": [
      "Requirement already satisfied: spacy in c:\\users\\hibah abdul razak\\anaconda3\\envs\\myenv\\lib\\site-packages (3.5.0)\n",
      "Requirement already satisfied: murmurhash<1.1.0,>=0.28.0 in c:\\users\\hibah abdul razak\\anaconda3\\envs\\myenv\\lib\\site-packages (from spacy) (1.0.9)\n",
      "Requirement already satisfied: langcodes<4.0.0,>=3.2.0 in c:\\users\\hibah abdul razak\\anaconda3\\envs\\myenv\\lib\\site-packages (from spacy) (3.3.0)\n",
      "Requirement already satisfied: spacy-legacy<3.1.0,>=3.0.11 in c:\\users\\hibah abdul razak\\anaconda3\\envs\\myenv\\lib\\site-packages (from spacy) (3.0.12)\n",
      "Requirement already satisfied: wasabi<1.2.0,>=0.9.1 in c:\\users\\hibah abdul razak\\anaconda3\\envs\\myenv\\lib\\site-packages (from spacy) (1.1.1)\n",
      "Requirement already satisfied: requests<3.0.0,>=2.13.0 in c:\\users\\hibah abdul razak\\anaconda3\\envs\\myenv\\lib\\site-packages (from spacy) (2.28.1)\n",
      "Requirement already satisfied: thinc<8.2.0,>=8.1.0 in c:\\users\\hibah abdul razak\\anaconda3\\envs\\myenv\\lib\\site-packages (from spacy) (8.1.7)\n",
      "Requirement already satisfied: typer<0.8.0,>=0.3.0 in c:\\users\\hibah abdul razak\\anaconda3\\envs\\myenv\\lib\\site-packages (from spacy) (0.7.0)\n",
      "Requirement already satisfied: packaging>=20.0 in c:\\users\\hibah abdul razak\\anaconda3\\envs\\myenv\\lib\\site-packages (from spacy) (21.3)\n",
      "Requirement already satisfied: cymem<2.1.0,>=2.0.2 in c:\\users\\hibah abdul razak\\anaconda3\\envs\\myenv\\lib\\site-packages (from spacy) (2.0.7)\n",
      "Requirement already satisfied: spacy-loggers<2.0.0,>=1.0.0 in c:\\users\\hibah abdul razak\\anaconda3\\envs\\myenv\\lib\\site-packages (from spacy) (1.0.4)\n",
      "Requirement already satisfied: preshed<3.1.0,>=3.0.2 in c:\\users\\hibah abdul razak\\anaconda3\\envs\\myenv\\lib\\site-packages (from spacy) (3.0.8)\n",
      "Requirement already satisfied: catalogue<2.1.0,>=2.0.6 in c:\\users\\hibah abdul razak\\anaconda3\\envs\\myenv\\lib\\site-packages (from spacy) (2.0.8)\n",
      "Requirement already satisfied: setuptools in c:\\users\\hibah abdul razak\\anaconda3\\envs\\myenv\\lib\\site-packages (from spacy) (65.3.0)\n",
      "Requirement already satisfied: tqdm<5.0.0,>=4.38.0 in c:\\users\\hibah abdul razak\\anaconda3\\envs\\myenv\\lib\\site-packages (from spacy) (4.64.1)\n",
      "Requirement already satisfied: numpy>=1.15.0 in c:\\users\\hibah abdul razak\\anaconda3\\envs\\myenv\\lib\\site-packages (from spacy) (1.22.3)\n",
      "Requirement already satisfied: smart-open<7.0.0,>=5.2.1 in c:\\users\\hibah abdul razak\\anaconda3\\envs\\myenv\\lib\\site-packages (from spacy) (6.3.0)\n",
      "Requirement already satisfied: pydantic!=1.8,!=1.8.1,<1.11.0,>=1.7.4 in c:\\users\\hibah abdul razak\\anaconda3\\envs\\myenv\\lib\\site-packages (from spacy) (1.10.5)\n",
      "Requirement already satisfied: jinja2 in c:\\users\\hibah abdul razak\\anaconda3\\envs\\myenv\\lib\\site-packages (from spacy) (3.0.3)\n",
      "Requirement already satisfied: srsly<3.0.0,>=2.4.3 in c:\\users\\hibah abdul razak\\anaconda3\\envs\\myenv\\lib\\site-packages (from spacy) (2.4.5)\n",
      "Requirement already satisfied: pathy>=0.10.0 in c:\\users\\hibah abdul razak\\anaconda3\\envs\\myenv\\lib\\site-packages (from spacy) (0.10.1)\n",
      "Requirement already satisfied: pyparsing!=3.0.5,>=2.0.2 in c:\\users\\hibah abdul razak\\anaconda3\\envs\\myenv\\lib\\site-packages (from packaging>=20.0->spacy) (3.0.9)\n",
      "Requirement already satisfied: typing-extensions>=4.2.0 in c:\\users\\hibah abdul razak\\anaconda3\\envs\\myenv\\lib\\site-packages (from pydantic!=1.8,!=1.8.1,<1.11.0,>=1.7.4->spacy) (4.3.0)\n",
      "Requirement already satisfied: idna<4,>=2.5 in c:\\users\\hibah abdul razak\\anaconda3\\envs\\myenv\\lib\\site-packages (from requests<3.0.0,>=2.13.0->spacy) (3.4)\n",
      "Requirement already satisfied: urllib3<1.27,>=1.21.1 in c:\\users\\hibah abdul razak\\anaconda3\\envs\\myenv\\lib\\site-packages (from requests<3.0.0,>=2.13.0->spacy) (1.26.11)\n",
      "Requirement already satisfied: charset-normalizer<3,>=2 in c:\\users\\hibah abdul razak\\anaconda3\\envs\\myenv\\lib\\site-packages (from requests<3.0.0,>=2.13.0->spacy) (2.1.1)\n",
      "Requirement already satisfied: certifi>=2017.4.17 in c:\\users\\hibah abdul razak\\anaconda3\\envs\\myenv\\lib\\site-packages (from requests<3.0.0,>=2.13.0->spacy) (2022.9.24)\n",
      "Requirement already satisfied: confection<1.0.0,>=0.0.1 in c:\\users\\hibah abdul razak\\anaconda3\\envs\\myenv\\lib\\site-packages (from thinc<8.2.0,>=8.1.0->spacy) (0.0.4)\n",
      "Requirement already satisfied: blis<0.8.0,>=0.7.8 in c:\\users\\hibah abdul razak\\anaconda3\\envs\\myenv\\lib\\site-packages (from thinc<8.2.0,>=8.1.0->spacy) (0.7.9)\n",
      "Requirement already satisfied: colorama in c:\\users\\hibah abdul razak\\anaconda3\\envs\\myenv\\lib\\site-packages (from tqdm<5.0.0,>=4.38.0->spacy) (0.4.6)\n",
      "Requirement already satisfied: click<9.0.0,>=7.1.1 in c:\\users\\hibah abdul razak\\anaconda3\\envs\\myenv\\lib\\site-packages (from typer<0.8.0,>=0.3.0->spacy) (8.1.3)\n",
      "Requirement already satisfied: MarkupSafe>=2.0 in c:\\users\\hibah abdul razak\\anaconda3\\envs\\myenv\\lib\\site-packages (from jinja2->spacy) (2.1.1)\n"
     ]
    }
   ],
   "source": [
    "!pip install spacy"
   ]
  },
  {
   "cell_type": "code",
   "execution_count": 2,
   "id": "ce1a678f",
   "metadata": {},
   "outputs": [],
   "source": [
    "import spacy\n",
    "from spacy.lang.en.stop_words import STOP_WORDS\n",
    "from string import punctuation\n",
    "import warnings\n",
    "warnings.filterwarnings('ignore')"
   ]
  },
  {
   "cell_type": "code",
   "execution_count": 3,
   "id": "eca27d21",
   "metadata": {},
   "outputs": [],
   "source": [
    "# f = open(\"nlp.txt\",'r')\n",
    "# text= f.read()\n",
    "\n",
    "text=\"\"\"\n",
    "Data science is an interdisciplinary field that uses scientific methods, processes, algorithms and systems to extract or extrapolate knowledge and insights from noisy, structured and unstructured data,[1][2] and apply knowledge from data across a broad range of application domains. Data science is related to data mining, machine learning and big data.[3]\n",
    "\n",
    "Data science is a \"concept to unify statistics, data analysis, informatics, and their related methods\" in order to \"understand and analyse actual phenomena\" with data.[4] It uses techniques and theories drawn from many fields within the context of mathematics, statistics, computer science, information science, and domain knowledge.[3] However, data science is different from computer science and information science. Turing Award winner Jim Gray imagined data science as a \"fourth paradigm\" of science (empirical, theoretical, computational, and now data-driven) and asserted that \"everything about science is changing because of the impact of information technology\" and the data deluge\"\"\""
   ]
  },
  {
   "cell_type": "code",
   "execution_count": 4,
   "id": "7492284e",
   "metadata": {
    "scrolled": true
   },
   "outputs": [
    {
     "name": "stdout",
     "output_type": "stream",
     "text": [
      "['yet', 'in', 'then', 'during', 'she', 'unless', 'thence', 'out', \"n't\", 'ever', 'per', 'of', '’re', 'third', 'latter', 'used', 'against', \"'re\", 'same', 'hundred', 'am', 'anything', 'ourselves', 'are', '’d', 'whether', 'whence', 'when', 'across', \"'s\", 'each', 'seem', 'mine', 'for', 'their', 'to', 'myself', 'nothing', 'two', 'say', 'here', 'being', 'hers', 'whoever', 'and', 'anywhere', 'it', 'whole', 'part', 'n‘t', '‘re', 'nobody', 'yourself', 'him', 'put', 'last', 'formerly', 'never', 'go', 'ours', 'through', 'many', 'front', \"'ve\", 'whatever', 'except', 'least', 'namely', 'more', 'would', 'beyond', 'forty', 'her', 'via', '’m', 'must', 'they', 'among', 'no', 'where', 'have', 'seemed', 'these', 'rather', 'might', 'our', 'n’t', 'you', 'show', 'one', '‘ll', 'everywhere', 'as', 'few', 'yourselves', 'do', 'whereas', 'until', 'down', 'is', 'does', 'any', 'amount', 'from', 'every', 'themselves', 'further', 'under', 'himself', 'herself', 'get', 'sixty', 'other', 'at', 'hereby', 'both', 'which', 'becomes', 'should', 'towards', 'with', 'others', \"'ll\", '’ll', 'full', 'while', 'so', 'several', 'since', 'wherein', 'afterwards', 'although', 'own', 'name', 'another', 'everything', 'be', 'up', 'sometimes', 'the', 'upon', 'had', '’s', 'perhaps', 'elsewhere', 'if', 'side', 'whose', 'why', 'thereafter', 'whereby', 'also', 'call', 'itself', 'first', 'somehow', 'too', 'an', 'before', 'whenever', \"'m\", 'almost', 'throughout', 'became', 'your', 'within', 'next', 'anyhow', 'serious', 'six', 'else', 'we', 're', 'into', 'above', 'nowhere', 'anyone', 'former', 'please', 'hence', 'move', 'five', 'them', 'even', 'thru', 'did', 'off', 'latterly', 'beforehand', 'see', 'whereafter', 'again', '‘d', 'really', 'behind', 'done', 'thereby', 'hereupon', 'because', 'this', 'three', 'i', 'fifty', 'though', 'whither', 'noone', 'but', 'herein', 'there', 'fifteen', 'something', 'empty', 'wherever', 'meanwhile', 'still', 'its', 'keep', 'after', 'not', 'most', 'yours', 'was', 'could', 'onto', 'however', 'nor', 'seems', 'his', 'about', 'seeming', 'us', 'a', 'eight', 'by', 'around', '‘ve', 'some', 'back', '’ve', 'just', 'now', 'much', 'very', 'already', 'all', 'often', 'eleven', 'alone', 'become', 'has', 'regarding', 'using', 'together', 'mostly', 'therefore', 'nevertheless', 'without', 'due', 'four', 'somewhere', 'twelve', 'or', 'were', 'well', 'twenty', 'whom', 'enough', 'bottom', 'on', 'how', 'ten', 'sometime', 'therein', 'ca', 'nine', 'cannot', 'doing', 'my', 'once', 'neither', 'indeed', 'made', 'than', 'toward', 'below', 'he', 'take', 'only', 'moreover', 'such', 'been', 'anyway', 'besides', 'over', 'make', 'quite', 'thereupon', 'less', 'that', 'can', 'will', 'those', 'someone', 'hereafter', '‘s', 'between', 'who', \"'d\", 'whereupon', 'various', 'everyone', 'me', 'either', '‘m', 'what', 'beside', 'thus', 'top', 'give', 'amongst', 'otherwise', 'none', 'always', 'may', 'becoming', 'along']\n"
     ]
    }
   ],
   "source": [
    "stopwords = list(STOP_WORDS)\n",
    "print(stopwords)"
   ]
  },
  {
   "cell_type": "code",
   "execution_count": 5,
   "id": "9677569c",
   "metadata": {
    "scrolled": true
   },
   "outputs": [
    {
     "name": "stdout",
     "output_type": "stream",
     "text": [
      "\u001b[38;5;3m⚠ As of spaCy v3.0, shortcuts like 'en' are deprecated. Please use the\n",
      "full pipeline package name 'en_core_web_sm' instead.\u001b[0m\n",
      "\u001b[38;5;2m✔ Download and installation successful\u001b[0m\n",
      "You can now load the package via spacy.load('en_core_web_sm')\n"
     ]
    }
   ],
   "source": [
    "spacy.cli.download(\"en\")"
   ]
  },
  {
   "cell_type": "code",
   "execution_count": 6,
   "id": "281af5e2",
   "metadata": {},
   "outputs": [],
   "source": [
    "nlp = spacy.load('en_core_web_sm')"
   ]
  },
  {
   "cell_type": "code",
   "execution_count": 7,
   "id": "9640fed0",
   "metadata": {},
   "outputs": [],
   "source": [
    "doc = nlp(text)"
   ]
  },
  {
   "cell_type": "code",
   "execution_count": 8,
   "id": "941d4152",
   "metadata": {},
   "outputs": [
    {
     "name": "stdout",
     "output_type": "stream",
     "text": [
      "['\\n', 'Data', 'science', 'is', 'an', 'interdisciplinary', 'field', 'that', 'uses', 'scientific', 'methods', ',', 'processes', ',', 'algorithms', 'and', 'systems', 'to', 'extract', 'or', 'extrapolate', 'knowledge', 'and', 'insights', 'from', 'noisy', ',', 'structured', 'and', 'unstructured', 'data,[1][2', ']', 'and', 'apply', 'knowledge', 'from', 'data', 'across', 'a', 'broad', 'range', 'of', 'application', 'domains', '.', 'Data', 'science', 'is', 'related', 'to', 'data', 'mining', ',', 'machine', 'learning', 'and', 'big', 'data.[3', ']', '\\n\\n', 'Data', 'science', 'is', 'a', '\"', 'concept', 'to', 'unify', 'statistics', ',', 'data', 'analysis', ',', 'informatics', ',', 'and', 'their', 'related', 'methods', '\"', 'in', 'order', 'to', '\"', 'understand', 'and', 'analyse', 'actual', 'phenomena', '\"', 'with', 'data.[4', ']', 'It', 'uses', 'techniques', 'and', 'theories', 'drawn', 'from', 'many', 'fields', 'within', 'the', 'context', 'of', 'mathematics', ',', 'statistics', ',', 'computer', 'science', ',', 'information', 'science', ',', 'and', 'domain', 'knowledge.[3', ']', 'However', ',', 'data', 'science', 'is', 'different', 'from', 'computer', 'science', 'and', 'information', 'science', '.', 'Turing', 'Award', 'winner', 'Jim', 'Gray', 'imagined', 'data', 'science', 'as', 'a', '\"', 'fourth', 'paradigm', '\"', 'of', 'science', '(', 'empirical', ',', 'theoretical', ',', 'computational', ',', 'and', 'now', 'data', '-', 'driven', ')', 'and', 'asserted', 'that', '\"', 'everything', 'about', 'science', 'is', 'changing', 'because', 'of', 'the', 'impact', 'of', 'information', 'technology', '\"', 'and', 'the', 'data', 'deluge']\n"
     ]
    }
   ],
   "source": [
    "tokens = [token.text for token in doc]\n",
    "print(tokens)"
   ]
  },
  {
   "cell_type": "code",
   "execution_count": 9,
   "id": "2d454a32",
   "metadata": {},
   "outputs": [
    {
     "name": "stdout",
     "output_type": "stream",
     "text": [
      "!\"#$%&'()*+,-./:;<=>?@[\\]^_`{|}~\n"
     ]
    }
   ],
   "source": [
    "print(punctuation)"
   ]
  },
  {
   "cell_type": "code",
   "execution_count": 10,
   "id": "b989dec5",
   "metadata": {},
   "outputs": [],
   "source": [
    "#Finding how many times a particular word has been repeated\n",
    "word_frequencies={}\n",
    "for word in doc:\n",
    "    if word.text.lower() not in stopwords:\n",
    "        if word.text.lower() not in punctuation:\n",
    "            if word.text not in word_frequencies.keys():\n",
    "                word_frequencies[word.text]=1\n",
    "            else:\n",
    "                word_frequencies[word.text]+=1"
   ]
  },
  {
   "cell_type": "code",
   "execution_count": 11,
   "id": "2aeffaca",
   "metadata": {},
   "outputs": [
    {
     "name": "stdout",
     "output_type": "stream",
     "text": [
      "{'\\n': 1, 'Data': 3, 'science': 11, 'interdisciplinary': 1, 'field': 1, 'uses': 2, 'scientific': 1, 'methods': 2, 'processes': 1, 'algorithms': 1, 'systems': 1, 'extract': 1, 'extrapolate': 1, 'knowledge': 2, 'insights': 1, 'noisy': 1, 'structured': 1, 'unstructured': 1, 'data,[1][2': 1, 'apply': 1, 'data': 7, 'broad': 1, 'range': 1, 'application': 1, 'domains': 1, 'related': 2, 'mining': 1, 'machine': 1, 'learning': 1, 'big': 1, 'data.[3': 1, '\\n\\n': 1, 'concept': 1, 'unify': 1, 'statistics': 2, 'analysis': 1, 'informatics': 1, 'order': 1, 'understand': 1, 'analyse': 1, 'actual': 1, 'phenomena': 1, 'data.[4': 1, 'techniques': 1, 'theories': 1, 'drawn': 1, 'fields': 1, 'context': 1, 'mathematics': 1, 'computer': 2, 'information': 3, 'domain': 1, 'knowledge.[3': 1, 'different': 1, 'Turing': 1, 'Award': 1, 'winner': 1, 'Jim': 1, 'Gray': 1, 'imagined': 1, 'fourth': 1, 'paradigm': 1, 'empirical': 1, 'theoretical': 1, 'computational': 1, 'driven': 1, 'asserted': 1, 'changing': 1, 'impact': 1, 'technology': 1, 'deluge': 1}\n"
     ]
    }
   ],
   "source": [
    "print(word_frequencies)"
   ]
  },
  {
   "cell_type": "code",
   "execution_count": 12,
   "id": "c6cd82d8",
   "metadata": {},
   "outputs": [
    {
     "name": "stdout",
     "output_type": "stream",
     "text": [
      "11\n"
     ]
    }
   ],
   "source": [
    "#finding max frequency \n",
    "max_frequency = max(word_frequencies.values())\n",
    "print(max_frequency)"
   ]
  },
  {
   "cell_type": "code",
   "execution_count": 13,
   "id": "b40fad10",
   "metadata": {},
   "outputs": [
    {
     "name": "stdout",
     "output_type": "stream",
     "text": [
      "{'\\n': 0.09090909090909091, 'Data': 0.2727272727272727, 'science': 1.0, 'interdisciplinary': 0.09090909090909091, 'field': 0.09090909090909091, 'uses': 0.18181818181818182, 'scientific': 0.09090909090909091, 'methods': 0.18181818181818182, 'processes': 0.09090909090909091, 'algorithms': 0.09090909090909091, 'systems': 0.09090909090909091, 'extract': 0.09090909090909091, 'extrapolate': 0.09090909090909091, 'knowledge': 0.18181818181818182, 'insights': 0.09090909090909091, 'noisy': 0.09090909090909091, 'structured': 0.09090909090909091, 'unstructured': 0.09090909090909091, 'data,[1][2': 0.09090909090909091, 'apply': 0.09090909090909091, 'data': 0.6363636363636364, 'broad': 0.09090909090909091, 'range': 0.09090909090909091, 'application': 0.09090909090909091, 'domains': 0.09090909090909091, 'related': 0.18181818181818182, 'mining': 0.09090909090909091, 'machine': 0.09090909090909091, 'learning': 0.09090909090909091, 'big': 0.09090909090909091, 'data.[3': 0.09090909090909091, '\\n\\n': 0.09090909090909091, 'concept': 0.09090909090909091, 'unify': 0.09090909090909091, 'statistics': 0.18181818181818182, 'analysis': 0.09090909090909091, 'informatics': 0.09090909090909091, 'order': 0.09090909090909091, 'understand': 0.09090909090909091, 'analyse': 0.09090909090909091, 'actual': 0.09090909090909091, 'phenomena': 0.09090909090909091, 'data.[4': 0.09090909090909091, 'techniques': 0.09090909090909091, 'theories': 0.09090909090909091, 'drawn': 0.09090909090909091, 'fields': 0.09090909090909091, 'context': 0.09090909090909091, 'mathematics': 0.09090909090909091, 'computer': 0.18181818181818182, 'information': 0.2727272727272727, 'domain': 0.09090909090909091, 'knowledge.[3': 0.09090909090909091, 'different': 0.09090909090909091, 'Turing': 0.09090909090909091, 'Award': 0.09090909090909091, 'winner': 0.09090909090909091, 'Jim': 0.09090909090909091, 'Gray': 0.09090909090909091, 'imagined': 0.09090909090909091, 'fourth': 0.09090909090909091, 'paradigm': 0.09090909090909091, 'empirical': 0.09090909090909091, 'theoretical': 0.09090909090909091, 'computational': 0.09090909090909091, 'driven': 0.09090909090909091, 'asserted': 0.09090909090909091, 'changing': 0.09090909090909091, 'impact': 0.09090909090909091, 'technology': 0.09090909090909091, 'deluge': 0.09090909090909091}\n"
     ]
    }
   ],
   "source": [
    "#Normalisation\n",
    "for word in word_frequencies.keys():\n",
    "    word_frequencies[word] = word_frequencies[word]/max_frequency\n",
    "print(word_frequencies)"
   ]
  },
  {
   "cell_type": "code",
   "execution_count": 14,
   "id": "7daf9519",
   "metadata": {
    "scrolled": true
   },
   "outputs": [
    {
     "name": "stdout",
     "output_type": "stream",
     "text": [
      "[\n",
      "Data science is an interdisciplinary field that uses scientific methods, processes, algorithms and systems to extract or extrapolate knowledge and insights from noisy, structured and unstructured data,[1][2] and apply knowledge from data across a broad range of application domains., Data science is related to data mining, machine learning and big data.[3]\n",
      "\n",
      "Data science is a \"concept to unify statistics, data analysis, informatics, and their related methods\" in order to \"understand and analyse actual phenomena\" with data.[4], It uses techniques and theories drawn from many fields within the context of mathematics, statistics, computer science, information science, and domain knowledge.[3], However, data science is different from computer science and information science., Turing Award winner Jim Gray imagined data science as a \"fourth paradigm\" of science (empirical, theoretical, computational, and now data-driven) and asserted that \"everything about science is changing because of the impact of information technology\" and the data deluge]\n",
      "5\n"
     ]
    }
   ],
   "source": [
    "#Constructing sentences from the words\n",
    "sentence_tokens = [sent for sent in doc.sents]\n",
    "print(sentence_tokens)\n",
    "print(len(sentence_tokens))"
   ]
  },
  {
   "cell_type": "code",
   "execution_count": 15,
   "id": "f02c29ba",
   "metadata": {},
   "outputs": [
    {
     "name": "stdout",
     "output_type": "stream",
     "text": [
      "{\n",
      "Data science is an interdisciplinary field that uses scientific methods, processes, algorithms and systems to extract or extrapolate knowledge and insights from noisy, structured and unstructured data,[1][2] and apply knowledge from data across a broad range of application domains.: 4.727272727272726, Data science is related to data mining, machine learning and big data.[3]\n",
      "\n",
      "Data science is a \"concept to unify statistics, data analysis, informatics, and their related methods\" in order to \"understand and analyse actual phenomena\" with data.[4]: 6.727272727272726, It uses techniques and theories drawn from many fields within the context of mathematics, statistics, computer science, information science, and domain knowledge.[3]: 3.545454545454545, However, data science is different from computer science and information science.: 4.181818181818182, Turing Award winner Jim Gray imagined data science as a \"fourth paradigm\" of science (empirical, theoretical, computational, and now data-driven) and asserted that \"everything about science is changing because of the impact of information technology\" and the data deluge: 6.363636363636363}\n"
     ]
    }
   ],
   "source": [
    "sentence_scores = {}\n",
    "for sent in sentence_tokens:\n",
    "    for word in sent:\n",
    "        if word.text.lower() in word_frequencies.keys():\n",
    "            if sent not in sentence_scores.keys():\n",
    "                sentence_scores[sent] = word_frequencies[word.text.lower()]\n",
    "            else:\n",
    "                sentence_scores[sent]+=word_frequencies[word.text.lower()]\n",
    "\n",
    "                \n",
    "print(sentence_scores)"
   ]
  },
  {
   "cell_type": "code",
   "execution_count": 16,
   "id": "0da52c0b",
   "metadata": {},
   "outputs": [],
   "source": [
    "#Now obtain 30% of sentences with maximum score and is done by heapq\n",
    "\n",
    "from heapq import nlargest\n",
    "from heapq import nsmallest"
   ]
  },
  {
   "cell_type": "code",
   "execution_count": 17,
   "id": "fff39cad",
   "metadata": {},
   "outputs": [
    {
     "name": "stdout",
     "output_type": "stream",
     "text": [
      "1\n"
     ]
    }
   ],
   "source": [
    "select_length = int(len(sentence_tokens)*0.3)\n",
    "print(select_length)"
   ]
  },
  {
   "cell_type": "code",
   "execution_count": 18,
   "id": "05845f1f",
   "metadata": {
    "scrolled": true
   },
   "outputs": [
    {
     "name": "stdout",
     "output_type": "stream",
     "text": [
      "[Data science is related to data mining, machine learning and big data.[3]\n",
      "\n",
      "Data science is a \"concept to unify statistics, data analysis, informatics, and their related methods\" in order to \"understand and analyse actual phenomena\" with data.[4]]\n"
     ]
    }
   ],
   "source": [
    "summary = nlargest(select_length,sentence_scores, key=sentence_scores.get)\n",
    "print(summary)"
   ]
  },
  {
   "cell_type": "code",
   "execution_count": 19,
   "id": "04a4b5c0",
   "metadata": {},
   "outputs": [
    {
     "name": "stdout",
     "output_type": "stream",
     "text": [
      "Data science is related to data mining, machine learning and big data.[3]\n",
      "\n",
      "Data science is a \"concept to unify statistics, data analysis, informatics, and their related methods\" in order to \"understand and analyse actual phenomena\" with data.[4]\n"
     ]
    }
   ],
   "source": [
    "final_summary = [word.text for word in summary]\n",
    "summary = ''.join(final_summary)\n",
    "\n",
    "print(summary)"
   ]
  },
  {
   "cell_type": "code",
   "execution_count": 20,
   "id": "630ee83f",
   "metadata": {},
   "outputs": [
    {
     "name": "stdout",
     "output_type": "stream",
     "text": [
      "\n",
      "Data science is an interdisciplinary field that uses scientific methods, processes, algorithms and systems to extract or extrapolate knowledge and insights from noisy, structured and unstructured data,[1][2] and apply knowledge from data across a broad range of application domains. Data science is related to data mining, machine learning and big data.[3]\n",
      "\n",
      "Data science is a \"concept to unify statistics, data analysis, informatics, and their related methods\" in order to \"understand and analyse actual phenomena\" with data.[4] It uses techniques and theories drawn from many fields within the context of mathematics, statistics, computer science, information science, and domain knowledge.[3] However, data science is different from computer science and information science. Turing Award winner Jim Gray imagined data science as a \"fourth paradigm\" of science (empirical, theoretical, computational, and now data-driven) and asserted that \"everything about science is changing because of the impact of information technology\" and the data deluge\n"
     ]
    }
   ],
   "source": [
    "print(text)"
   ]
  },
  {
   "cell_type": "code",
   "execution_count": 21,
   "id": "b2735e54",
   "metadata": {},
   "outputs": [
    {
     "data": {
      "text/plain": [
       "1048"
      ]
     },
     "execution_count": 21,
     "metadata": {},
     "output_type": "execute_result"
    }
   ],
   "source": [
    "len(text)"
   ]
  },
  {
   "cell_type": "code",
   "execution_count": null,
   "id": "f3b12131",
   "metadata": {},
   "outputs": [],
   "source": []
  },
  {
   "cell_type": "code",
   "execution_count": null,
   "id": "6e943371",
   "metadata": {},
   "outputs": [],
   "source": []
  },
  {
   "cell_type": "code",
   "execution_count": null,
   "id": "87a777b5",
   "metadata": {},
   "outputs": [],
   "source": []
  }
 ],
 "metadata": {
  "kernelspec": {
   "display_name": "Python 3 (ipykernel)",
   "language": "python",
   "name": "python3"
  },
  "language_info": {
   "codemirror_mode": {
    "name": "ipython",
    "version": 3
   },
   "file_extension": ".py",
   "mimetype": "text/x-python",
   "name": "python",
   "nbconvert_exporter": "python",
   "pygments_lexer": "ipython3",
   "version": "3.10.6"
  }
 },
 "nbformat": 4,
 "nbformat_minor": 5
}
